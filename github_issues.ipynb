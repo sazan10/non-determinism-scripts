{
  "cells": [
    {
      "cell_type": "code",
      "execution_count": null,
      "metadata": {
        "colab": {
          "base_uri": "https://localhost:8080/"
        },
        "id": "E75MDv5_O-yw",
        "outputId": "e01cc266-842f-4fb0-b2a0-ead0d348aa55"
      },
      "outputs": [
        {
          "output_type": "stream",
          "name": "stdout",
          "text": [
            "Collecting github-dependents-info\n",
            "  Downloading github_dependents_info-1.6.3-py3-none-any.whl (14 kB)\n",
            "Requirement already satisfied: beautifulsoup4==4.12.3 in /usr/local/lib/python3.10/dist-packages (from github-dependents-info) (4.12.3)\n",
            "Requirement already satisfied: pandas<3.0.0,>=2.0.0 in /usr/local/lib/python3.10/dist-packages (from github-dependents-info) (2.0.3)\n",
            "Requirement already satisfied: requests<3.0.0,>=2.31.0 in /usr/local/lib/python3.10/dist-packages (from github-dependents-info) (2.31.0)\n",
            "Requirement already satisfied: rich<14.0,>=12.6 in /usr/local/lib/python3.10/dist-packages (from github-dependents-info) (13.7.1)\n",
            "Collecting typer[all]<0.10,>=0.4 (from github-dependents-info)\n",
            "  Downloading typer-0.9.4-py3-none-any.whl (45 kB)\n",
            "\u001b[2K     \u001b[90m━━━━━━━━━━━━━━━━━━━━━━━━━━━━━━━━━━━━━━━━\u001b[0m \u001b[32m46.0/46.0 kB\u001b[0m \u001b[31m485.3 kB/s\u001b[0m eta \u001b[36m0:00:00\u001b[0m\n",
            "\u001b[?25hRequirement already satisfied: soupsieve>1.2 in /usr/local/lib/python3.10/dist-packages (from beautifulsoup4==4.12.3->github-dependents-info) (2.5)\n",
            "Requirement already satisfied: python-dateutil>=2.8.2 in /usr/local/lib/python3.10/dist-packages (from pandas<3.0.0,>=2.0.0->github-dependents-info) (2.8.2)\n",
            "Requirement already satisfied: pytz>=2020.1 in /usr/local/lib/python3.10/dist-packages (from pandas<3.0.0,>=2.0.0->github-dependents-info) (2023.4)\n",
            "Requirement already satisfied: tzdata>=2022.1 in /usr/local/lib/python3.10/dist-packages (from pandas<3.0.0,>=2.0.0->github-dependents-info) (2024.1)\n",
            "Requirement already satisfied: numpy>=1.21.0 in /usr/local/lib/python3.10/dist-packages (from pandas<3.0.0,>=2.0.0->github-dependents-info) (1.25.2)\n",
            "Requirement already satisfied: charset-normalizer<4,>=2 in /usr/local/lib/python3.10/dist-packages (from requests<3.0.0,>=2.31.0->github-dependents-info) (3.3.2)\n",
            "Requirement already satisfied: idna<4,>=2.5 in /usr/local/lib/python3.10/dist-packages (from requests<3.0.0,>=2.31.0->github-dependents-info) (3.7)\n",
            "Requirement already satisfied: urllib3<3,>=1.21.1 in /usr/local/lib/python3.10/dist-packages (from requests<3.0.0,>=2.31.0->github-dependents-info) (2.0.7)\n",
            "Requirement already satisfied: certifi>=2017.4.17 in /usr/local/lib/python3.10/dist-packages (from requests<3.0.0,>=2.31.0->github-dependents-info) (2024.6.2)\n",
            "Requirement already satisfied: markdown-it-py>=2.2.0 in /usr/local/lib/python3.10/dist-packages (from rich<14.0,>=12.6->github-dependents-info) (3.0.0)\n",
            "Requirement already satisfied: pygments<3.0.0,>=2.13.0 in /usr/local/lib/python3.10/dist-packages (from rich<14.0,>=12.6->github-dependents-info) (2.16.1)\n",
            "Requirement already satisfied: click<9.0.0,>=7.1.1 in /usr/local/lib/python3.10/dist-packages (from typer[all]<0.10,>=0.4->github-dependents-info) (8.1.7)\n",
            "Requirement already satisfied: typing-extensions>=3.7.4.3 in /usr/local/lib/python3.10/dist-packages (from typer[all]<0.10,>=0.4->github-dependents-info) (4.12.2)\n",
            "Collecting colorama<0.5.0,>=0.4.3 (from typer[all]<0.10,>=0.4->github-dependents-info)\n",
            "  Downloading colorama-0.4.6-py2.py3-none-any.whl (25 kB)\n",
            "Requirement already satisfied: shellingham<2.0.0,>=1.3.0 in /usr/local/lib/python3.10/dist-packages (from typer[all]<0.10,>=0.4->github-dependents-info) (1.5.4)\n",
            "Requirement already satisfied: mdurl~=0.1 in /usr/local/lib/python3.10/dist-packages (from markdown-it-py>=2.2.0->rich<14.0,>=12.6->github-dependents-info) (0.1.2)\n",
            "Requirement already satisfied: six>=1.5 in /usr/local/lib/python3.10/dist-packages (from python-dateutil>=2.8.2->pandas<3.0.0,>=2.0.0->github-dependents-info) (1.16.0)\n",
            "Installing collected packages: typer, colorama, github-dependents-info\n",
            "  Attempting uninstall: typer\n",
            "    Found existing installation: typer 0.12.3\n",
            "    Uninstalling typer-0.12.3:\n",
            "      Successfully uninstalled typer-0.12.3\n",
            "Successfully installed colorama-0.4.6 github-dependents-info-1.6.3 typer-0.9.4\n",
            "Requirement already satisfied: requests in /usr/local/lib/python3.10/dist-packages (2.31.0)\n",
            "Requirement already satisfied: charset-normalizer<4,>=2 in /usr/local/lib/python3.10/dist-packages (from requests) (3.3.2)\n",
            "Requirement already satisfied: idna<4,>=2.5 in /usr/local/lib/python3.10/dist-packages (from requests) (3.7)\n",
            "Requirement already satisfied: urllib3<3,>=1.21.1 in /usr/local/lib/python3.10/dist-packages (from requests) (2.0.7)\n",
            "Requirement already satisfied: certifi>=2017.4.17 in /usr/local/lib/python3.10/dist-packages (from requests) (2024.6.2)\n"
          ]
        }
      ],
      "source": [
        "!pip install -U github-dependents-info\n",
        "!pip install requests"
      ]
    },
    {
      "cell_type": "code",
      "execution_count": null,
      "metadata": {
        "id": "d6hcUfOH3lOI"
      },
      "outputs": [],
      "source": [
        "\n",
        "import numpy as np # linear algebra\n",
        "import pandas as pd # data processing, CSV file I/O (e.g. pd.read_csv)\n",
        "import spacy\n",
        "import string\n",
        "import gensim\n",
        "import operator\n",
        "import re\n",
        "import requests\n",
        "from github_dependents_info.gh_dependents_info import GithubDependentsInfo\n",
        "import json"
      ]
    },
    {
      "cell_type": "code",
      "execution_count": null,
      "metadata": {
        "id": "_xDIZZ3K3oeK"
      },
      "outputs": [],
      "source": [
        "def fetch_github_issues(owner, repo):\n",
        "    issues = []\n",
        "    page =\n",
        "    while page<=100:\n",
        "        url = f\"https://api.github.com/repos/{owner}/{repo}/issues?page={page}&state=all\"\n",
        "        response = requests.get(url)\n",
        "        if response.status_code == 200:\n",
        "            issues_page = response.json()\n",
        "            if len(issues_page) == 0:\n",
        "                break\n",
        "            issues.extend(issues_page)\n",
        "            page += 1\n",
        "        else:\n",
        "            print(f\"Failed to fetch issues. Status code: {response.status_code}\")\n",
        "            return None\n",
        "    return issues\n",
        "\n"
      ]
    },
    {
      "cell_type": "code",
      "execution_count": null,
      "metadata": {
        "colab": {
          "base_uri": "https://localhost:8080/",
          "height": 193
        },
        "id": "LXtozFd1POEj",
        "outputId": "32b2cceb-d600-42f1-bd8a-fdf5aec42c75"
      },
      "outputs": [
        {
          "output_type": "stream",
          "name": "stdout",
          "text": [
            "Failed to fetch issues. Status code: 403\n"
          ]
        },
        {
          "output_type": "error",
          "ename": "TypeError",
          "evalue": "object of type 'NoneType' has no len()",
          "traceback": [
            "\u001b[0;31m---------------------------------------------------------------------------\u001b[0m",
            "\u001b[0;31mTypeError\u001b[0m                                 Traceback (most recent call last)",
            "\u001b[0;32m<ipython-input-21-7e3b99a49bcb>\u001b[0m in \u001b[0;36m<cell line: 40>\u001b[0;34m()\u001b[0m\n\u001b[1;32m     38\u001b[0m \u001b[0;34m\u001b[0m\u001b[0m\n\u001b[1;32m     39\u001b[0m \u001b[0;34m\u001b[0m\u001b[0m\n\u001b[0;32m---> 40\u001b[0;31m \u001b[0mprint\u001b[0m\u001b[0;34m(\u001b[0m\u001b[0mlen\u001b[0m\u001b[0;34m(\u001b[0m\u001b[0mdata\u001b[0m\u001b[0;34m)\u001b[0m\u001b[0;34m)\u001b[0m\u001b[0;34m\u001b[0m\u001b[0;34m\u001b[0m\u001b[0m\n\u001b[0m",
            "\u001b[0;31mTypeError\u001b[0m: object of type 'NoneType' has no len()"
          ]
        }
      ],
      "source": [
        "\n",
        "# owner = \"rust-lang\"\n",
        "# repo = \"miri\"\n",
        "owner=\"DynamoRIO\"\n",
        "repo=\"dynamorio\"\n",
        "\n",
        "\n",
        "data=[]\n",
        "data = fetch_github_issues(owner,repo)\n",
        "\n",
        "print(len(data))"
      ]
    },
    {
      "cell_type": "code",
      "execution_count": null,
      "metadata": {
        "id": "rNJZDcAwQBh7"
      },
      "outputs": [],
      "source": [
        "# df_issues = pd.read_csv('./github-issues-10000.csv')\n",
        "df_issues= pd.DataFrame(data)\n",
        "df_issues.head()"
      ]
    },
    {
      "cell_type": "code",
      "execution_count": null,
      "metadata": {
        "id": "ktC2ZMOMQU3J"
      },
      "outputs": [],
      "source": [
        "from spacy.lang.en.stop_words import STOP_WORDS\n",
        "\n",
        "spacy_nlp = spacy.load('en_core_web_sm')\n",
        "\n",
        "#create list of punctuations and stopwords\n",
        "punctuations = string.punctuation\n",
        "stop_words = spacy.lang.en.stop_words.STOP_WORDS\n",
        "\n",
        "#function for data cleaning and processing\n",
        "#This can be further enhanced by adding / removing reg-exps as desired.\n",
        "\n",
        "def spacy_tokenizer(sentence):\n",
        "\n",
        "    #remove distracting single quotes\n",
        "    sentence = re.sub('\\'','',sentence)\n",
        "\n",
        "    #remove digits adnd words containing digits\n",
        "    sentence = re.sub('\\w*\\d\\w*','',sentence)\n",
        "\n",
        "    #replace extra spaces with single space\n",
        "    sentence = re.sub(' +',' ',sentence)\n",
        "\n",
        "    #remove unwanted lines starting from special charcters\n",
        "    sentence = re.sub(r'\\n: \\'\\'.*','',sentence)\n",
        "    sentence = re.sub(r'\\n!.*','',sentence)\n",
        "    sentence = re.sub(r'^:\\'\\'.*','',sentence)\n",
        "\n",
        "    #remove non-breaking new line characters\n",
        "    sentence = re.sub(r'\\n',' ',sentence)\n",
        "\n",
        "    #remove punctunations\n",
        "    sentence = re.sub(r'[^\\w\\s]',' ',sentence)\n",
        "\n",
        "    #creating token object\n",
        "    tokens = spacy_nlp(sentence)\n",
        "\n",
        "    #lower, strip and lemmatize\n",
        "    tokens = [word.lemma_.lower().strip() if word.lemma_ != \"-PRON-\" else word.lower_ for word in tokens]\n",
        "\n",
        "    #remove stopwords, and exclude words less than 2 characters\n",
        "    tokens = [word for word in tokens if word not in stop_words and word not in punctuations and len(word) > 2]\n",
        "\n",
        "    #return tokens\n",
        "    return tokens"
      ]
    },
    {
      "cell_type": "code",
      "execution_count": null,
      "metadata": {
        "id": "h-DqrSJ0QnzK"
      },
      "outputs": [],
      "source": [
        "print ('Cleaning and Tokenizing...')\n",
        "# df_issues['content'] = df_issues['title']\n",
        "df_issues['content'] = df_issues['title'] + \" \" +  df_issues['body'].apply(lambda x: x if isinstance(x, str) else \"\")\n",
        "df_issues['issues_tokenized'] = df_issues['content'].map(lambda x: spacy_tokenizer(x))\n",
        "\n",
        "df_issues.head()"
      ]
    },
    {
      "cell_type": "code",
      "execution_count": null,
      "metadata": {
        "id": "ogBNIF4bQxdB"
      },
      "outputs": [],
      "source": [
        "issue_title= df_issues['issues_tokenized']\n",
        "issue_title[0:5]"
      ]
    },
    {
      "cell_type": "code",
      "execution_count": null,
      "metadata": {
        "id": "DhcDm-kURdXB"
      },
      "outputs": [],
      "source": [
        "from gensim import corpora\n",
        "\n",
        "#creating term dictionary\n",
        "dictionary = corpora.Dictionary(issue_title)\n",
        "\n",
        "\n",
        "#list of few which which can be further removed\n",
        "stoplist = set('hello and issue commit hi the is a they are have in this on')\n",
        "stop_ids = [dictionary.token2id[stopword] for stopword in stoplist if stopword in dictionary.token2id]\n",
        "dictionary.filter_tokens(stop_ids)"
      ]
    },
    {
      "cell_type": "code",
      "execution_count": null,
      "metadata": {
        "id": "Bc5Zmo6IU0_c"
      },
      "outputs": [],
      "source": [
        "dict_tokens = [[[dictionary[key], dictionary.token2id[dictionary[key]]] for key, value in dictionary.items() if key <= 50]]"
      ]
    },
    {
      "cell_type": "code",
      "execution_count": null,
      "metadata": {
        "id": "CHMY-JR_VBJJ"
      },
      "outputs": [],
      "source": [
        "corpus = [dictionary.doc2bow(desc) for desc in issue_title]\n",
        "\n",
        "word_frequencies = [[(dictionary[id], frequency) for id, frequency in line] for line in corpus[0:3]]"
      ]
    },
    {
      "cell_type": "code",
      "execution_count": null,
      "metadata": {
        "id": "-Q63GsUyVMiN"
      },
      "outputs": [],
      "source": [
        "issue_tfidf_model = gensim.models.TfidfModel(corpus, id2word=dictionary)\n",
        "issue_lsi_model = gensim.models.LsiModel(issue_tfidf_model[corpus], id2word=dictionary, num_topics=300)"
      ]
    },
    {
      "cell_type": "code",
      "execution_count": null,
      "metadata": {
        "id": "xb1CWC73V6AJ"
      },
      "outputs": [],
      "source": [
        "gensim.corpora.MmCorpus.serialize('issue_tfidf_model_mm', issue_tfidf_model[corpus])\n",
        "gensim.corpora.MmCorpus.serialize('issue_lsi_model_mm',issue_lsi_model[issue_tfidf_model[corpus]])"
      ]
    },
    {
      "cell_type": "code",
      "execution_count": null,
      "metadata": {
        "id": "T9EtjjS1XeJS"
      },
      "outputs": [],
      "source": [
        "issue_tfidf_corpus = gensim.corpora.MmCorpus('issue_tfidf_model_mm')\n",
        "issue_lsi_corpus = gensim.corpora.MmCorpus('issue_lsi_model_mm')"
      ]
    },
    {
      "cell_type": "code",
      "execution_count": null,
      "metadata": {
        "id": "_87CFN8OX8Vb"
      },
      "outputs": [],
      "source": [
        "from gensim.similarities import MatrixSimilarity\n",
        "\n",
        "issue_index = MatrixSimilarity(issue_lsi_corpus, num_features = issue_lsi_corpus.num_terms)"
      ]
    },
    {
      "cell_type": "code",
      "execution_count": null,
      "metadata": {
        "id": "mpctew_AYNd9"
      },
      "outputs": [],
      "source": [
        "from operator import itemgetter\n",
        "\n",
        "def search_similar_issues(search_term):\n",
        "\n",
        "    query_bow = dictionary.doc2bow(spacy_tokenizer(search_term))\n",
        "    query_tfidf = issue_tfidf_model[query_bow]\n",
        "    query_lsi = issue_lsi_model[query_tfidf]\n",
        "\n",
        "    issue_index.num_best = 100\n",
        "\n",
        "    issues_list = issue_index[query_lsi]\n",
        "\n",
        "    issues_list.sort(key=itemgetter(1), reverse=True)\n",
        "    issue_names = []\n",
        "    for j, issue in enumerate(issues_list):\n",
        "\n",
        "        issue_names.append (\n",
        "            {\n",
        "                'Number': df_issues['number'][issue[0]],\n",
        "                'Relevance': round((issue[1] * 100),2),\n",
        "                'Issue Title': df_issues['title'][issue[0]],\n",
        "                # 'issue body': df_issues['body'][issue[0]],\n",
        "                \"Search Term\" : search_term,\n",
        "                'Issue url': df_issues['html_url'][issue[0]],\n",
        "                \"Issue State\" : df_issues['state'][issue[0]],\n",
        "                \"Total Issues\" : len(data)\n",
        "                # 'Issue Status': df_issues[''][issue[0]]\n",
        "\n",
        "            }\n",
        "\n",
        "        )\n",
        "        if round((issue[1] * 100),2)<20:\n",
        "            break\n",
        "\n",
        "    return pd.DataFrame(issue_names, columns=['Number','Relevance', \"Search Term\" ,\"Total Issues\",'Issue Title', \"Issue State\" ,'Issue url'])"
      ]
    },
    {
      "cell_type": "code",
      "execution_count": null,
      "metadata": {
        "id": "LVKCYhpbVGP5"
      },
      "outputs": [],
      "source": [
        "def custom_agg(values):\n",
        "    if len(values) > 1:\n",
        "        return f\"{values.iloc[0]}, \\n {values.iloc[1]}\"\n",
        "    return values.iloc[0]\n"
      ]
    },
    {
      "cell_type": "code",
      "execution_count": null,
      "metadata": {
        "id": "04HY6EmycUY7"
      },
      "outputs": [],
      "source": [
        "# pd.set_option('max_colwidth', None)\n",
        "search_words =[\"non-determinism\",\"nondeterministic\", \"non-deterministic\",\"nondeterminism\", \"flaky\",\"flakiness\",]\n",
        "word_index=0\n",
        "all_result =pd.DataFrame([], columns=['Number','Relevance','Issue Title', \"Issue State\" ,'Issue url', \"Search Term\", \"Total Issues\", \"Relevant Issues\"])\n",
        "for index,search_word in enumerate(search_words):\n",
        "  result=search_similar_issues(search_word)\n",
        "  result_number= len(result)\n",
        "  result.loc[0, \"Relevant Issues\"] = f'{search_word}: {result_number}'\n",
        "  all_result=pd.concat([all_result, result])\n",
        "all_result['Search Term'] = all_result['Search Term'].fillna('').astype(str)\n",
        "df_combined = all_result.groupby('Number').agg({\n",
        "    'Search Term': lambda x: ', '.join(set(x)),\n",
        "    'Issue Title': 'first',\n",
        "    'Relevance': custom_agg,\n",
        "    'Issue url': 'first',\n",
        "    'Issue State': 'first',\n",
        "    'Total Issues':'first',\n",
        "    'Relevant Issues':custom_agg\n",
        "\n",
        "}).reset_index()\n",
        "df_combined = df_combined.sort_values(by=['Search Term','Relevance'], ascending=[True, False]).reset_index(drop=True)\n",
        "\n",
        "print(df_combined)\n",
        "df_combined.to_csv(f'{repo}-combined.csv')\n",
        "all_result.to_csv(f'{repo}.csv')\n"
      ]
    },
    {
      "cell_type": "code",
      "execution_count": null,
      "metadata": {
        "id": "IhLg4w1lHfQE"
      },
      "outputs": [],
      "source": []
    },
    {
      "cell_type": "code",
      "execution_count": null,
      "metadata": {
        "id": "JpLGvh62HfSp"
      },
      "outputs": [],
      "source": []
    },
    {
      "cell_type": "code",
      "execution_count": null,
      "metadata": {
        "id": "Au41OWd8Hflq"
      },
      "outputs": [],
      "source": []
    },
    {
      "cell_type": "code",
      "execution_count": null,
      "metadata": {
        "id": "ixtdSEZdHfoS"
      },
      "outputs": [],
      "source": []
    },
    {
      "cell_type": "code",
      "execution_count": null,
      "metadata": {
        "id": "nv1i2n15HfrF"
      },
      "outputs": [],
      "source": []
    },
    {
      "cell_type": "code",
      "execution_count": null,
      "metadata": {
        "id": "Il8ZH6FZHft2"
      },
      "outputs": [],
      "source": [
        "# Added code blocks as break. The following codes check for cosine similarity to find similar words which can be used to find more issues"
      ]
    },
    {
      "cell_type": "code",
      "execution_count": null,
      "metadata": {
        "colab": {
          "background_save": true,
          "base_uri": "https://localhost:8080/"
        },
        "id": "4W0NKGDYbFdh",
        "outputId": "7525a2d7-e569-4faf-c533-c7f494bb785a"
      },
      "outputs": [
        {
          "name": "stdout",
          "output_type": "stream",
          "text": [
            "[==================================================] 100.0% 1662.8/1662.8MB downloaded\n"
          ]
        }
      ],
      "source": [
        "import gensim.downloader as api\n",
        "\n",
        "wv = api.load('word2vec-google-news-300')\n"
      ]
    },
    {
      "cell_type": "code",
      "execution_count": null,
      "metadata": {
        "colab": {
          "background_save": true
        },
        "id": "sVEunXXzY_u_"
      },
      "outputs": [],
      "source": [
        "import nltk\n",
        "from gensim.models import KeyedVectors\n",
        "\n",
        "\n",
        "# f = open('capitals.txt', 'r').read()\n",
        "# set_words = set(nltk.word_tokenize(f))\n",
        "# select_words = words = ['king', 'queen', 'oil', 'gas', 'happy', 'sad', 'city', 'town', 'village', 'country', 'continent', 'petroleum', 'joyful']\n",
        "# for w in select_words:\n",
        "#     set_words.add(w)\n",
        "\n",
        "def get_word_embeddings(embeddings):\n",
        "\n",
        "    word_embeddings = {}\n",
        "    for word in embeddings.vocab:\n",
        "        if word in set_words:\n",
        "            word_embeddings[word] = embeddings[word]\n",
        "    return word_embeddings\n"
      ]
    },
    {
      "cell_type": "code",
      "execution_count": null,
      "metadata": {
        "colab": {
          "background_save": true
        },
        "id": "cQeWmtHjM4db"
      },
      "outputs": [],
      "source": [
        "def cosine_similarity(A, B):\n",
        "    '''\n",
        "    Input:\n",
        "        A: a numpy array which corresponds to a word vector\n",
        "        B: A numpy array which corresponds to a word vector\n",
        "    Output:\n",
        "        cos: numerical number representing the cosine similarity between A and B.\n",
        "    '''\n",
        "\n",
        "    ### START CODE HERE ###\n",
        "    dot = np.dot(A,B)\n",
        "    norma = np.linalg.norm(A)\n",
        "    normb = np.linalg.norm(B)\n",
        "    cos = dot/(norma*normb)\n",
        "\n",
        "    ### END CODE HERE ###\n",
        "    return cos"
      ]
    },
    {
      "cell_type": "code",
      "execution_count": null,
      "metadata": {
        "colab": {
          "background_save": true
        },
        "id": "qhfwdAlZZA6-"
      },
      "outputs": [],
      "source": [
        "\n",
        "def euclidean(A, B):\n",
        "    \"\"\"\n",
        "    Input:\n",
        "        A: a numpy array which corresponds to a word vector\n",
        "        B: A numpy array which corresponds to a word vector\n",
        "    Output:\n",
        "        d: numerical number representing the Euclidean distance between A and B.\n",
        "    \"\"\"\n",
        "\n",
        "    ### START CODE HERE ###\n",
        "\n",
        "    # euclidean distance\n",
        "    d = np.sum(np.linalg.norm(B-A))\n",
        "\n",
        "    ### END CODE HERE ###\n",
        "\n",
        "    return d"
      ]
    },
    {
      "cell_type": "code",
      "execution_count": null,
      "metadata": {
        "colab": {
          "background_save": true
        },
        "id": "UFm14gqmZRMq"
      },
      "outputs": [],
      "source": [
        "\n",
        "def get_similar(current_word, embeddings, cosine_similarity=cosine_similarity):\n",
        "    key_exists = any(current_word in obj for index, obj in enumerate(embeddings.index_to_key))\n",
        "    if not key_exists:\n",
        "      return []\n",
        "    word_embedding = embeddings[current_word]\n",
        "    similarity = -1\n",
        "\n",
        "    similar_words = [current_word]\n",
        "\n",
        "    for index, word in enumerate(embeddings.index_to_key):\n",
        "        if word != current_word:\n",
        "            cur_similarity = cosine_similarity(embeddings[word], word_embedding)\n",
        "            if cur_similarity > 0.55:\n",
        "                similar_words.append(word)\n",
        "\n",
        "    return similar_words"
      ]
    },
    {
      "cell_type": "code",
      "execution_count": null,
      "metadata": {
        "colab": {
          "background_save": true
        },
        "id": "HkSj8Onvat4i",
        "outputId": "9f90a81c-4359-4e99-8a8f-9301afb7ad54"
      },
      "outputs": [
        {
          "name": "stdout",
          "output_type": "stream",
          "text": [
            "CPU times: user 57.2 s, sys: 1.01 s, total: 58.2 s\n",
            "Wall time: 1min 5s\n",
            "similar words: ['determine', 'decide', 'determined', 'unclear', 'assess', 'evaluate', 'examine', 'determining', 'analyze', 'assessing', 'calculate', 'determines', 'pinpoint', 'ascertain', 'discern', 'Determining', 'Determine', 'ascertaining', 'determing', 'todetermine']\n",
            "    Relevance issue Title issue url   Number  Search Term  Total Issues                                                                                                                                                                                                                                                                                                                     Issue Title Issue State                                          Issue url\n",
            "49      92.46         NaN       NaN  84164.0      analyze        1500.0                                                                                                                                                                                                                                         [clang][dataflow] When analyzing ctors, don't initialize fields of `*this` with values.      closed    https://github.com/llvm/llvm-project/pull/84164\n",
            "86      92.08         NaN       NaN  84403.0    determing        1500.0                                                                                                                                                                                                                                                                                                  [InstallAPI] Collect C++ Decls      closed    https://github.com/llvm/llvm-project/pull/84403\n",
            "87      89.77         NaN       NaN  83953.0    determing        1500.0                                                                                                                                                                                                                                                                                                  [InstallAPI] Capture C++ Decls      closed    https://github.com/llvm/llvm-project/pull/83953\n",
            "24      82.11         NaN       NaN  84140.0      unclear        1500.0                                                                                                                                                                                                                                                          [mlir][Transform] Mapping update rules for `apply_conversion_patterns`        open    https://github.com/llvm/llvm-project/pull/84140\n",
            "55      70.33         NaN       NaN  84145.0    calculate        1500.0                                                                                                                                                                                                                                                          Add a pass to calculate machine function's cfg hash to detect whether…        open    https://github.com/llvm/llvm-project/pull/84145\n",
            "88      67.09         NaN       NaN  83632.0    determing        1500.0                                                                                                                                                                                                                                                                                    [InstallAPI] Collect symbols from ObjC Ivars      closed    https://github.com/llvm/llvm-project/pull/83632\n",
            "30      66.47         NaN       NaN  83851.0     evaluate        1500.0                                                                                                                                                                                                                                                                     [flang] Implement passing of assumed-type actual arguments.      closed    https://github.com/llvm/llvm-project/pull/83851\n",
            "59      65.64         NaN       NaN  84448.0   determines        1500.0                                                                                                                                                                                                                                                                                     [RISCV][NFC] Pass LMUL to copyPhysRegVector      closed    https://github.com/llvm/llvm-project/pull/84448\n",
            "77      65.64         NaN       NaN  84448.0    Determine        1500.0                                                                                                                                                                                                                                                                                     [RISCV][NFC] Pass LMUL to copyPhysRegVector      closed    https://github.com/llvm/llvm-project/pull/84448\n",
            "40      65.64         NaN       NaN  84448.0  determining        1500.0                                                                                                                                                                                                                                                                                     [RISCV][NFC] Pass LMUL to copyPhysRegVector      closed    https://github.com/llvm/llvm-project/pull/84448\n",
            "15      65.64         NaN       NaN  84448.0   determined        1500.0                                                                                                                                                                                                                                                                                     [RISCV][NFC] Pass LMUL to copyPhysRegVector      closed    https://github.com/llvm/llvm-project/pull/84448\n",
            "0       65.64         NaN       NaN  84448.0    determine        1500.0                                                                                                                                                                                                                                                                                     [RISCV][NFC] Pass LMUL to copyPhysRegVector      closed    https://github.com/llvm/llvm-project/pull/84448\n",
            "68      65.64         NaN       NaN  84448.0  Determining        1500.0                                                                                                                                                                                                                                                                                     [RISCV][NFC] Pass LMUL to copyPhysRegVector      closed    https://github.com/llvm/llvm-project/pull/84448\n",
            "89      55.74         NaN       NaN  83378.0    determing        1500.0                                                                                                                                                                                                                                                                  [InstallAPI] Collect frontend attributes & ObjCInterface decls      closed    https://github.com/llvm/llvm-project/pull/83378\n",
            "56      55.32         NaN       NaN  84111.0    calculate        1500.0                                                                                                                                                                                                                                               [Thumb] Resolve FIXME: We can trust live-in information from successor blocks now        open    https://github.com/llvm/llvm-project/pull/84111\n",
            "31      53.43         NaN       NaN  83607.0     evaluate        1500.0                                                                                                                                                                                                                                                     [ValueTracking] Change recursive eval order for `isKnownNonZero(umin)`; NFC      closed    https://github.com/llvm/llvm-project/pull/83607\n",
            "60      52.80         NaN       NaN  84093.0   determines        1500.0                                                                                                                                                                                                                                               release/18.x: [ObjC] Check entire chain of superclasses to determine class layout      closed    https://github.com/llvm/llvm-project/pull/84093\n",
            "41      52.80         NaN       NaN  84093.0  determining        1500.0                                                                                                                                                                                                                                               release/18.x: [ObjC] Check entire chain of superclasses to determine class layout      closed    https://github.com/llvm/llvm-project/pull/84093\n",
            "69      52.80         NaN       NaN  84093.0  Determining        1500.0                                                                                                                                                                                                                                               release/18.x: [ObjC] Check entire chain of superclasses to determine class layout      closed    https://github.com/llvm/llvm-project/pull/84093\n",
            "1       52.80         NaN       NaN  84093.0    determine        1500.0                                                                                                                                                                                                                                               release/18.x: [ObjC] Check entire chain of superclasses to determine class layout      closed    https://github.com/llvm/llvm-project/pull/84093\n",
            "78      52.80         NaN       NaN  84093.0    Determine        1500.0                                                                                                                                                                                                                                               release/18.x: [ObjC] Check entire chain of superclasses to determine class layout      closed    https://github.com/llvm/llvm-project/pull/84093\n",
            "16      52.80         NaN       NaN  84093.0   determined        1500.0                                                                                                                                                                                                                                               release/18.x: [ObjC] Check entire chain of superclasses to determine class layout      closed    https://github.com/llvm/llvm-project/pull/84093\n",
            "32      52.37         NaN       NaN  84001.0     evaluate        1500.0                                                                                                                                                                                                                                                          [mlir][gpu] Replace MLIR_GPU_TO_HSACO_PASS_ENABLE by more generic one.      closed    https://github.com/llvm/llvm-project/pull/84001\n",
            "33      49.00         NaN       NaN  84172.0     evaluate        1500.0                                                                                                                                                                                                                                                                               Expressions in _Generic Misinterpret the Standard      closed  https://github.com/llvm/llvm-project/issues/84172\n",
            "50      48.03         NaN       NaN  82987.0      analyze        1500.0                                                                                                                                                                                                                                                                             Non functional change. Initialize var EnumVal to 0.      closed    https://github.com/llvm/llvm-project/pull/82987\n",
            "90      45.58         NaN       NaN  83523.0    determing        1500.0                                                                                                                                                                                                                                                                           [InstallAPI] Use unique identifiers for input buffers      closed    https://github.com/llvm/llvm-project/pull/83523\n",
            "61      44.37         NaN       NaN  84366.0   determines        1500.0                                                                                                                                                                                                                                                                                [libc] harden memset and other memory operations        open  https://github.com/llvm/llvm-project/issues/84366\n",
            "42      44.37         NaN       NaN  84366.0  determining        1500.0                                                                                                                                                                                                                                                                                [libc] harden memset and other memory operations        open  https://github.com/llvm/llvm-project/issues/84366\n",
            "70      44.37         NaN       NaN  84366.0  Determining        1500.0                                                                                                                                                                                                                                                                                [libc] harden memset and other memory operations        open  https://github.com/llvm/llvm-project/issues/84366\n",
            "79      44.37         NaN       NaN  84366.0    Determine        1500.0                                                                                                                                                                                                                                                                                [libc] harden memset and other memory operations        open  https://github.com/llvm/llvm-project/issues/84366\n",
            "2       44.37         NaN       NaN  84366.0    determine        1500.0                                                                                                                                                                                                                                                                                [libc] harden memset and other memory operations        open  https://github.com/llvm/llvm-project/issues/84366\n",
            "17      44.37         NaN       NaN  84366.0   determined        1500.0                                                                                                                                                                                                                                                                                [libc] harden memset and other memory operations        open  https://github.com/llvm/llvm-project/issues/84366\n",
            "34      40.80         NaN       NaN  83706.0     evaluate        1500.0  [Flang][HLFIR] llvm-project/flang/lib/Lower/ConvertExprToHLFIR.cpp:923: hlfir::ElementalAddrOp (anonymous namespace)::HlfirDesignatorBuilder::convertVectorSubscriptedExprToElementalAddr(const Fortran::lower::SomeExpr &): Assertion `getVectorSubscriptElementAddrOp().has_value() && \"expected vector subscripts\"' failed.      closed  https://github.com/llvm/llvm-project/issues/83706\n",
            "9       40.79         NaN       NaN  83575.0       decide        1500.0                                                                                                                                                                                                                                           [libc++] Use _Complex for multiplication and division of complex floating point types      closed    https://github.com/llvm/llvm-project/pull/83575\n",
            "91      40.51         NaN       NaN  83952.0    determing        1500.0                                                                                                                                                                                                                                                                                           [InstallAPI] Collect global functions      closed    https://github.com/llvm/llvm-project/pull/83952\n",
            "51      39.40         NaN       NaN  83621.0      analyze        1500.0                                                                                                                                                                                                                                                                           Fix a use-after-move bug in DWARFVerifier constructor      closed    https://github.com/llvm/llvm-project/pull/83621\n",
            "10      38.66         NaN       NaN  84289.0       decide        1500.0                                                                                                                                                                                                                                                                                             [PowerPC] Retire PPCExpandISel pass        open    https://github.com/llvm/llvm-project/pull/84289\n",
            "52      38.34         NaN       NaN  83824.0      analyze        1500.0                                                                                                                                                                                                                                                                 [flang] Deallocate structure constructor allocatable components      closed    https://github.com/llvm/llvm-project/pull/83824\n",
            "18      38.30         NaN       NaN  84050.0   determined        1500.0                                                                                                                                                 [Clang][Sema] Diagnose class member access expressions naming non-existent members of the current instantiation prior to instantiation in the absence of dependent base classes      closed    https://github.com/llvm/llvm-project/pull/84050\n",
            "80      38.30         NaN       NaN  84050.0    Determine        1500.0                                                                                                                                                 [Clang][Sema] Diagnose class member access expressions naming non-existent members of the current instantiation prior to instantiation in the absence of dependent base classes      closed    https://github.com/llvm/llvm-project/pull/84050\n",
            "71      38.30         NaN       NaN  84050.0  Determining        1500.0                                                                                                                                                 [Clang][Sema] Diagnose class member access expressions naming non-existent members of the current instantiation prior to instantiation in the absence of dependent base classes      closed    https://github.com/llvm/llvm-project/pull/84050\n",
            "43      38.30         NaN       NaN  84050.0  determining        1500.0                                                                                                                                                 [Clang][Sema] Diagnose class member access expressions naming non-existent members of the current instantiation prior to instantiation in the absence of dependent base classes      closed    https://github.com/llvm/llvm-project/pull/84050\n",
            "62      38.30         NaN       NaN  84050.0   determines        1500.0                                                                                                                                                 [Clang][Sema] Diagnose class member access expressions naming non-existent members of the current instantiation prior to instantiation in the absence of dependent base classes      closed    https://github.com/llvm/llvm-project/pull/84050\n",
            "3       38.30         NaN       NaN  84050.0    determine        1500.0                                                                                                                                                 [Clang][Sema] Diagnose class member access expressions naming non-existent members of the current instantiation prior to instantiation in the absence of dependent base classes      closed    https://github.com/llvm/llvm-project/pull/84050\n",
            "35      38.18         NaN       NaN  83572.0     evaluate        1500.0                                                                                                                                                                                                                  [Flang] fatal internal error: CHECK(last) failed at /root/llvm-project/flang/lib/Evaluate/intrinsics.cpp(2638)      closed  https://github.com/llvm/llvm-project/issues/83572\n",
            "36      37.73         NaN       NaN  84238.0     evaluate        1500.0                                                                                                                                                                                                                                                         [mlir][bazel] Don't set MLIR_ENABLE_NVPTXCOMPILER on if_cuda_available.      closed    https://github.com/llvm/llvm-project/pull/84238\n",
            "57      37.12         NaN       NaN  84114.0    calculate        1500.0                                                                                                                                                                                                                                                                                     Fix stack layout for frames larger than 2gb      closed    https://github.com/llvm/llvm-project/pull/84114\n",
            "37      36.61         NaN       NaN  83152.0     evaluate        1500.0                                                                                                                                                                                                                                                                           [Clang][Sema]: Diagnose lambda to bool implicit casts      closed    https://github.com/llvm/llvm-project/pull/83152\n",
            "81      35.51         NaN       NaN  83230.0    Determine        1500.0                                                                                                                                                                                                                                                                   [RISCV] Use a ta vslideup if inserting over end of InterSubVT      closed    https://github.com/llvm/llvm-project/pull/83230\n",
            "19      35.51         NaN       NaN  83230.0   determined        1500.0                                                                                                                                                                                                                                                                   [RISCV] Use a ta vslideup if inserting over end of InterSubVT      closed    https://github.com/llvm/llvm-project/pull/83230\n",
            "44      35.51         NaN       NaN  83230.0  determining        1500.0                                                                                                                                                                                                                                                                   [RISCV] Use a ta vslideup if inserting over end of InterSubVT      closed    https://github.com/llvm/llvm-project/pull/83230\n",
            "72      35.51         NaN       NaN  83230.0  Determining        1500.0                                                                                                                                                                                                                                                                   [RISCV] Use a ta vslideup if inserting over end of InterSubVT      closed    https://github.com/llvm/llvm-project/pull/83230\n",
            "4       35.51         NaN       NaN  83230.0    determine        1500.0                                                                                                                                                                                                                                                                   [RISCV] Use a ta vslideup if inserting over end of InterSubVT      closed    https://github.com/llvm/llvm-project/pull/83230\n",
            "63      35.51         NaN       NaN  83230.0   determines        1500.0                                                                                                                                                                                                                                                                   [RISCV] Use a ta vslideup if inserting over end of InterSubVT      closed    https://github.com/llvm/llvm-project/pull/83230\n",
            "92      34.20         NaN       NaN  84379.0    determing        1500.0                                                                                                                                                                                                                                                                             Make llvm-nm's --export-symbols option work for ELF        open    https://github.com/llvm/llvm-project/pull/84379\n",
            "25      34.19         NaN       NaN  84131.0      unclear        1500.0                                                                                                                                                                                                                                                                     [mlir][IR] Add listener notifications for pattern begin/end      closed    https://github.com/llvm/llvm-project/pull/84131\n",
            "26      33.87         NaN       NaN  83950.0      unclear        1500.0                                                                                                                                                                                                                                                                   [mlir][Transform] `apply_conversion_patterns`: Update handles      closed    https://github.com/llvm/llvm-project/pull/83950\n",
            "73      33.32         NaN       NaN  83035.0  Determining        1500.0                                                                                                                                                                                                                                                                      [RISCV] Recursively split concat_vector into smaller LMULs      closed    https://github.com/llvm/llvm-project/pull/83035\n",
            "5       33.32         NaN       NaN  83035.0    determine        1500.0                                                                                                                                                                                                                                                                      [RISCV] Recursively split concat_vector into smaller LMULs      closed    https://github.com/llvm/llvm-project/pull/83035\n",
            "64      33.32         NaN       NaN  83035.0   determines        1500.0                                                                                                                                                                                                                                                                      [RISCV] Recursively split concat_vector into smaller LMULs      closed    https://github.com/llvm/llvm-project/pull/83035\n",
            "20      33.32         NaN       NaN  83035.0   determined        1500.0                                                                                                                                                                                                                                                                      [RISCV] Recursively split concat_vector into smaller LMULs      closed    https://github.com/llvm/llvm-project/pull/83035\n",
            "82      33.32         NaN       NaN  83035.0    Determine        1500.0                                                                                                                                                                                                                                                                      [RISCV] Recursively split concat_vector into smaller LMULs      closed    https://github.com/llvm/llvm-project/pull/83035\n",
            "45      33.32         NaN       NaN  83035.0  determining        1500.0                                                                                                                                                                                                                                                                      [RISCV] Recursively split concat_vector into smaller LMULs      closed    https://github.com/llvm/llvm-project/pull/83035\n",
            "53      33.14         NaN       NaN  83070.0      analyze        1500.0                                                                                                                                                                                                                                                                 c++ missing-field-initializer warning regression on trunk/18rc.      closed  https://github.com/llvm/llvm-project/issues/83070\n",
            "46      32.86         NaN       NaN  83204.0  determining        1500.0                                                                                                                                                                                                                                                               [Clang] Correct __builtin_dynamic_object_size for subobject types        open    https://github.com/llvm/llvm-project/pull/83204\n",
            "21      32.86         NaN       NaN  83204.0   determined        1500.0                                                                                                                                                                                                                                                               [Clang] Correct __builtin_dynamic_object_size for subobject types        open    https://github.com/llvm/llvm-project/pull/83204\n",
            "83      32.86         NaN       NaN  83204.0    Determine        1500.0                                                                                                                                                                                                                                                               [Clang] Correct __builtin_dynamic_object_size for subobject types        open    https://github.com/llvm/llvm-project/pull/83204\n",
            "65      32.86         NaN       NaN  83204.0   determines        1500.0                                                                                                                                                                                                                                                               [Clang] Correct __builtin_dynamic_object_size for subobject types        open    https://github.com/llvm/llvm-project/pull/83204\n",
            "6       32.86         NaN       NaN  83204.0    determine        1500.0                                                                                                                                                                                                                                                               [Clang] Correct __builtin_dynamic_object_size for subobject types        open    https://github.com/llvm/llvm-project/pull/83204\n",
            "74      32.86         NaN       NaN  83204.0  Determining        1500.0                                                                                                                                                                                                                                                               [Clang] Correct __builtin_dynamic_object_size for subobject types        open    https://github.com/llvm/llvm-project/pull/83204\n",
            "11      32.83         NaN       NaN  83481.0       decide        1500.0                                                                                                                                                                                                                                                [SLP]Check if masked gather can be emitted as a serie of loads/insert subvector.      closed    https://github.com/llvm/llvm-project/pull/83481\n",
            "38      32.30         NaN       NaN  83272.0     evaluate        1500.0                                                                                                                                                                                                                                                                                              Silence potential overflow warning      closed    https://github.com/llvm/llvm-project/pull/83272\n",
            "12      32.29         NaN       NaN  83908.0       decide        1500.0                                                                                                                                                                                                                                                                        [lldb] Allow languages to filter breakpoints set by line      closed    https://github.com/llvm/llvm-project/pull/83908\n",
            "84      31.64         NaN       NaN  83420.0    Determine        1500.0                                                                                                                                                                                                                             [Concepts] Add Decls from the outer scope of the current lambda for conversion function constraints      closed    https://github.com/llvm/llvm-project/pull/83420\n",
            "75      31.64         NaN       NaN  83420.0  Determining        1500.0                                                                                                                                                                                                                             [Concepts] Add Decls from the outer scope of the current lambda for conversion function constraints      closed    https://github.com/llvm/llvm-project/pull/83420\n",
            "47      31.64         NaN       NaN  83420.0  determining        1500.0                                                                                                                                                                                                                             [Concepts] Add Decls from the outer scope of the current lambda for conversion function constraints      closed    https://github.com/llvm/llvm-project/pull/83420\n",
            "66      31.64         NaN       NaN  83420.0   determines        1500.0                                                                                                                                                                                                                             [Concepts] Add Decls from the outer scope of the current lambda for conversion function constraints      closed    https://github.com/llvm/llvm-project/pull/83420\n",
            "7       31.64         NaN       NaN  83420.0    determine        1500.0                                                                                                                                                                                                                             [Concepts] Add Decls from the outer scope of the current lambda for conversion function constraints      closed    https://github.com/llvm/llvm-project/pull/83420\n",
            "22      31.64         NaN       NaN  83420.0   determined        1500.0                                                                                                                                                                                                                             [Concepts] Add Decls from the outer scope of the current lambda for conversion function constraints      closed    https://github.com/llvm/llvm-project/pull/83420\n",
            "27      30.66         NaN       NaN  83530.0      unclear        1500.0                                                                                                                                                                                                                                                                Inconsistent results when using --arith-unsigned-when-equivalent        open  https://github.com/llvm/llvm-project/issues/83530\n",
            "28      30.57         NaN       NaN  84045.0      unclear        1500.0                                                                                                                                                                                                                                                             [NFC][LLVM][CodeGen] Refactor SVE unpredicated binop isel patterns.      closed    https://github.com/llvm/llvm-project/pull/84045\n",
            "13      30.03         NaN       NaN  83213.0       decide        1500.0                                                                                                                                                                                                                                                            [mlir][vector][print] do not append newline to printing pure strings      closed    https://github.com/llvm/llvm-project/pull/83213\n",
            "76      29.84         NaN       NaN  83618.0  Determining        1500.0                                                                                                                                                                                                                                                            [lld][macho][NFC] Add specific namespace scope for objc symbol names      closed    https://github.com/llvm/llvm-project/pull/83618\n",
            "8       29.84         NaN       NaN  83618.0    determine        1500.0                                                                                                                                                                                                                                                            [lld][macho][NFC] Add specific namespace scope for objc symbol names      closed    https://github.com/llvm/llvm-project/pull/83618\n",
            "23      29.84         NaN       NaN  83618.0   determined        1500.0                                                                                                                                                                                                                                                            [lld][macho][NFC] Add specific namespace scope for objc symbol names      closed    https://github.com/llvm/llvm-project/pull/83618\n",
            "85      29.84         NaN       NaN  83618.0    Determine        1500.0                                                                                                                                                                                                                                                            [lld][macho][NFC] Add specific namespace scope for objc symbol names      closed    https://github.com/llvm/llvm-project/pull/83618\n",
            "67      29.84         NaN       NaN  83618.0   determines        1500.0                                                                                                                                                                                                                                                            [lld][macho][NFC] Add specific namespace scope for objc symbol names      closed    https://github.com/llvm/llvm-project/pull/83618\n",
            "48      29.84         NaN       NaN  83618.0  determining        1500.0                                                                                                                                                                                                                                                            [lld][macho][NFC] Add specific namespace scope for objc symbol names      closed    https://github.com/llvm/llvm-project/pull/83618\n",
            "14      29.75         NaN       NaN  84159.0       decide        1500.0                                                                                                                                                                                                                                                                                               [clang][Interp] Integral pointers      closed    https://github.com/llvm/llvm-project/pull/84159\n",
            "58      28.87         NaN       NaN  83963.0    calculate        1500.0                                                                                                                                                                                                                                                     [DAGCombiner] Handle extending EXTRACT_VECTOR_ELTs in calculateByteProvider      closed    https://github.com/llvm/llvm-project/pull/83963\n",
            "54      27.16         NaN       NaN  83937.0      analyze        1500.0                                                                                                                                                                                                                                              [NFC][NewGVN] Remove the initialization of the PredicateInfo from the constructor.      closed    https://github.com/llvm/llvm-project/pull/83937\n",
            "93      26.68         NaN       NaN  83487.0    determing        1500.0                                                                                                                                                                                                                                                                         Fix implementation of [temp.param]p14's first sentence.      closed    https://github.com/llvm/llvm-project/pull/83487\n",
            "29      24.59         NaN       NaN  83253.0      unclear        1500.0                                                                                                                                                                                                                                                                                            [flang] Fix flang build after #83132      closed    https://github.com/llvm/llvm-project/pull/83253\n",
            "39      24.51         NaN       NaN  84189.0     evaluate        1500.0                                                                                                                                                                                                                                                      [AArch64] Override isLSRCostLess, take number of instructions into account      closed    https://github.com/llvm/llvm-project/pull/84189\n"
          ]
        }
      ],
      "source": [
        "search_text=\"determine\"\n",
        "%time similar_words= get_similar(search_text, wv)\n",
        "print(f\"similar words: {similar_words}\")\n",
        "all_issues = pd.DataFrame(columns=['Relevance','issue Title', 'issue url'])\n",
        "if(len(similar_words)>1):\n",
        "  for text in similar_words:\n",
        "    new_issues=search_similar_issues(text)\n",
        "    if len(new_issues)>0:\n",
        "      all_issues=pd.concat([all_issues,new_issues], ignore_index=True)\n",
        "else:\n",
        "  all_issues=search_similar_issues(search_text)\n",
        "duplicated_sorted_issues = all_issues.sort_values(by='Relevance',ascending=False)\n",
        "sorted_issues= duplicated_sorted_issues.drop_duplicates()\n",
        "print(sorted_issues.to_string())\n",
        "\n",
        "# for word in wv:\n",
        "# print(wv.vocab)"
      ]
    },
    {
      "cell_type": "code",
      "execution_count": null,
      "metadata": {
        "colab": {
          "background_save": true
        },
        "id": "HV83e49zc8Bb"
      },
      "outputs": [],
      "source": []
    }
  ],
  "metadata": {
    "colab": {
      "provenance": []
    },
    "kernelspec": {
      "display_name": "Python 3",
      "name": "python3"
    },
    "language_info": {
      "name": "python"
    }
  },
  "nbformat": 4,
  "nbformat_minor": 0
}